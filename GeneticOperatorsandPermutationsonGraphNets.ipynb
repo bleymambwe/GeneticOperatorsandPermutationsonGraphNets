{
 "cells": [
  {
   "cell_type": "code",
   "execution_count": 473,
   "metadata": {},
   "outputs": [],
   "source": [
    "import random\n",
    "from math import exp as e\n",
    "import numpy as np"
   ]
  },
  {
   "cell_type": "code",
   "execution_count": null,
   "metadata": {},
   "outputs": [],
   "source": []
  },
  {
   "cell_type": "code",
   "execution_count": 535,
   "metadata": {},
   "outputs": [],
   "source": [
    "class Node:\n",
    "    def __init__(self,data):\n",
    "        self.data = data\n",
    "        self.left = None\n",
    "        self.right= None\n",
    "        \n",
    "        self.Ajpos = None\n",
    "        \n",
    "        self.In    = None\n",
    "        self.type  = None\n",
    "            "
   ]
  },
  {
   "cell_type": "code",
   "execution_count": null,
   "metadata": {},
   "outputs": [],
   "source": []
  },
  {
   "cell_type": "code",
   "execution_count": 536,
   "metadata": {},
   "outputs": [],
   "source": [
    "class Sampler:\n",
    "    def sample(dict_):\n",
    "        return random.choice(list(d.keys()))\n",
    "    \n",
    "    def getLen(dict_):\n",
    "        return len(dict_)\n",
    "    \n",
    "    def iterDict(dict_):\n",
    "        for key in dict_:\n",
    "            return key"
   ]
  },
  {
   "cell_type": "code",
   "execution_count": null,
   "metadata": {},
   "outputs": [],
   "source": []
  },
  {
   "cell_type": "code",
   "execution_count": null,
   "metadata": {},
   "outputs": [],
   "source": []
  },
  {
   "cell_type": "code",
   "execution_count": 627,
   "metadata": {},
   "outputs": [],
   "source": [
    "class ObjectProperties(Tree):\n",
    "    def __init__(self):\n",
    "        self.no    = None\n",
    "        self.v_no  = None\n",
    "        self.e_no  = None\n",
    "        \n",
    "    \n",
    "    def getNode(self):\n",
    "        return Tree.root\n",
    "    \n",
    "    def addAttributes(self,node,type_):\n",
    "        \n",
    "        self.increment_no(node)\n",
    "        self.addType(node,type_)\n",
    "        self.addtoList(node)\n",
    "        \n",
    "    def increment_no(self,node):\n",
    "        if self.counter is None:\n",
    "            node.no = 0\n",
    "            self.counter = node.no\n",
    "        else:\n",
    "            node.no = self.counter+1\n",
    "            self.counter = node.no\n",
    "        \n",
    "    def addType(self,node,type_):\n",
    "        node.type = type_\n",
    "        \n",
    "    def addtoList(self,node):\n",
    "        if node.type is 'Operator':\n",
    "            self.operators.append(node)\n",
    "        elif node.type is 'Node':\n",
    "            self.nodes.append(node)\n",
    "        else :\n",
    "            self.edges.append(node)\n",
    "            \n",
    "    def addInnovation_no(self,node):\n",
    "        if node.type is 'Node':\n",
    "            if self.node_counter is None and self.edge_counter is None:\n",
    "                \n",
    "                self.node_counter = 0 \n",
    "                self.edge_counter = 0\n",
    "                \n",
    "                edge = self.getEdge(node)\n",
    "                \n",
    "                edge.In = ()\n",
    "                node.In = (self.node_counter,  )"
   ]
  },
  {
   "cell_type": "code",
   "execution_count": null,
   "metadata": {},
   "outputs": [],
   "source": []
  },
  {
   "cell_type": "code",
   "execution_count": 628,
   "metadata": {},
   "outputs": [],
   "source": [
    "class GeneticOperators(Sampler):\n",
    "    def __init__(self):\n",
    "        None\n",
    "#     def traverse(self,root):\n",
    "#         if root is not None:\n",
    "#             self.__find__(root.left)\n",
    "#             print(root.data)\n",
    "#             self.__find__(root.right)\n",
    "            \n",
    "#     def search(self,data):\n",
    "#         return self.__search__(root = self.root,item = data)"
   ]
  },
  {
   "cell_type": "code",
   "execution_count": 629,
   "metadata": {},
   "outputs": [],
   "source": [
    "class Functions:\n",
    "    def __init__(self):\n",
    "        self.functions = {'sig':self.sigmoid, '+':self.plus,'.':self.dot}\n",
    "        \n",
    "    def sigmoid(self,x):\n",
    "        return 1/(1+e**(-x))\n",
    "    \n",
    "    def plus(self,x,y):\n",
    "        return x+y\n",
    "    \n",
    "    def dot(self,x,y):\n",
    "        return x*y"
   ]
  },
  {
   "cell_type": "code",
   "execution_count": null,
   "metadata": {},
   "outputs": [],
   "source": []
  },
  {
   "cell_type": "code",
   "execution_count": null,
   "metadata": {},
   "outputs": [],
   "source": []
  },
  {
   "cell_type": "code",
   "execution_count": 630,
   "metadata": {},
   "outputs": [],
   "source": [
    "class Tree(Functions, ObjectProperties):\n",
    "    def __init__(self,x= None):\n",
    "        super().__init__()\n",
    "        self.x = x\n",
    "        self.prev = None\n",
    "        self.root = None\n",
    "        \n",
    "        self.Aj = None\n",
    "        self.Tr = None\n",
    "        self.Im  = None\n",
    "        self.In  = None\n",
    "        \n",
    "        self.counter=None\n",
    "        self.edge_counter= None\n",
    "        self.node_counter= None\n",
    "        \n",
    "        self.nodes = []\n",
    "        self.edges = []\n",
    "        self.operators=[]\n",
    "        \n",
    "        self.list = []\n",
    "        self.lst_ = []\n",
    "        \n",
    "    def evaluate(self):\n",
    "        return self.__eval__(root= self.root)\n",
    "    \n",
    "    def __eval__(self,root):\n",
    "        if root is not None:\n",
    "            self.__eval__(root.left)\n",
    "            self.__operate__(root.data,root)\n",
    "            self.__eval__(root.right)\n",
    "        return self.list\n",
    "    \n",
    "    def __operate__(self,data,root):\n",
    "        if data is not '+':\n",
    "            self.list.append(data)\n",
    "        else:\n",
    "            self.list.append(data)\n",
    "            self._eval_(self.root.right)\n",
    "        \n",
    "        if len(self.list) == 3:\n",
    "            print(self.list)\n",
    "            tempVal = self.functions[self.list[1]](self.list[0],self.list[2])\n",
    "            self.list.clear()\n",
    "            return self.list.append(tempVal)\n",
    "        \n",
    "    def hasTwochildren(self,root):\n",
    "        if root.left is not None and root.right is not None:\n",
    "            left_of_root = root.left\n",
    "            right_of_root= root.right\n",
    "            \n",
    "            if (left_of_root.left is None and left_of_root.right is None \n",
    "            and right_of_root.left is None and right_of_root.right is None):\n",
    "                return True\n",
    "            else:\n",
    "                return False\n",
    "        else:\n",
    "            return False\n",
    "        \n",
    "    def getEdge(self,node):\n",
    "        return node.prev.right\n",
    "    \n",
    "    def getParent(self,node):\n",
    "        return node.prev.right\n",
    "        \n",
    "    def createTree(self):\n",
    "        for i in range(len(self.x)):\n",
    "            self.addItems(self.x[i])\n",
    "        return\n",
    "    \n",
    "    def addItems(self,data):\n",
    "        if self.root is None:\n",
    "            self.root = self.subTree(data)\n",
    "\n",
    "        else :\n",
    "            node = self.subTreewithOp(data)\n",
    "            node.left = self.root\n",
    "            node.left.prev = node\n",
    "            self.root = node\n",
    "            \n",
    "#     def initNodeProperties(node):\n",
    "#         if node is self.root:\n",
    "#             self.root.In   = 0\n",
    "#             self.addtoAJ(node)\n",
    "#             self.addtoTr(node)\n",
    "#         else:\n",
    "#             if type(node.data) is int:\n",
    "#                 #if node is either a vertex or edge\n",
    "                \n",
    "    def subTree(self,data):\n",
    "        #int Operator\n",
    "        node= Node('.')\n",
    "        self.addAttributes(node,type_='Operator')\n",
    "    \n",
    "        subRoot = node\n",
    "        \n",
    "        #init edge\n",
    "        weight = random.uniform(0,1)\n",
    "        \n",
    "        subRoot.left = Node(data)\n",
    "        self.addAttributes(subRoot.left, type_= 'Node')\n",
    "        \n",
    "        subRoot.right= Node(weight)\n",
    "        self.addAttributes(subRoot.right, type_='Edge')\n",
    "\n",
    "        subRoot.left.prev = node\n",
    "        subRoot.right.prev= node\n",
    "        \n",
    "        return subRoot\n",
    "    \n",
    "    def subTreewithOp(self,data):\n",
    "        #init Operator\n",
    "        node = Node('+')\n",
    "        self.addAttributes(node,type_ = 'Operator')\n",
    "\n",
    "        #init Edge\n",
    "        weight = random.uniform(0,1)\n",
    "        subRoot = node\n",
    "\n",
    "        subRoot.right = self.subTree(data)\n",
    "        subRoot.right.prev = node\n",
    "        return subRoot\n",
    "    \n",
    "    def subTreewithSig(self,data):\n",
    "        subRoot = Node('sig')\n",
    "        self.addAttributes(subRoot, type_='Operator')\n",
    "        \n",
    "        tempRoot = Node('.')\n",
    "        self.addAttributes(tempRoot, type_ = 'Operator')\n",
    "        \n",
    "        tempRoot.left = self.subTree(data)\n",
    "        tempRoot.left.prev = tempRoot\n",
    "        \n",
    "        tempRoot.right= self.getEdge(self.found_item)\n",
    "        tempRoot.right.prev = tempRoot\n",
    "        \n",
    "        subRoot.left = tempRoot\n",
    "        subRoot.left.prev = subRoot\n",
    "        \n",
    "        return subRoot\n",
    "    \n",
    "    def addSig(self):\n",
    "        node = Node('sig')\n",
    "        self.addAttributes(node, type_ = 'Operator')\n",
    "        \n",
    "        node.left = self.root\n",
    "        node.left.prev= node\n",
    "        self.root = node\n",
    "    \n",
    "    def find(self,item):\n",
    "        return self.__find__(self.root,item)\n",
    "    \n",
    "    def __find__(self,root,item):\n",
    "        if root is not None and root is not item :\n",
    "            if root.data is item:\n",
    "                self.found_item = root\n",
    "                return root\n",
    "            else:\n",
    "                self.__find__(root.left,item)\n",
    "                self.__find__(root.right,item)\n",
    "                \n",
    "    def traverse(self):\n",
    "        return self.__traverse__(self.root)\n",
    "    \n",
    "    def __traverse__(self,root):\n",
    "        if root is not None:\n",
    "            self.__traverse__(root.left)\n",
    "            print(root.data)\n",
    "            self.__traverse__(root.right)\n",
    "            \n",
    "    def _ev_(self,root):\n",
    "        if root is not None:\n",
    "            if len(self.lst_) <3:\n",
    "                self._ev_(root.left)\n",
    "                if root.data is not '+':\n",
    "                    self.lst_.append(root.data)\n",
    "                else:\n",
    "                    self.append()\n",
    "                    self._ev_(root.right)\n",
    "                    \n",
    "                self._ev_(root.right)\n",
    "                \n",
    "            elif len(self.lst_) is 3:\n",
    "                    tempV = self.functions[self.lst_[1]](self.lst_[0],self.lst_[2])\n",
    "                    self.lst_.clear()\n",
    "                    self.lst_.append(tempV)\n",
    "                      \n",
    "    def search(self,root):\n",
    "        if root is not None:\n",
    "            self.search(root.left)\n",
    "            self._ev_(root)\n",
    "            self.search(root.right)\n",
    "            \n",
    "    def checkforOperation(self,root):\n",
    "        if root.data in self.functions and self.hasTwochildren(root) == True: \n",
    "            tempNode = Node(self.functions[root.data](root.left.data,root.right.data))\n",
    "            root.prev.next = tempNode\n",
    "            root = tempNode\n",
    "            print(root.data)\n",
    "        else:\n",
    "            pass\n",
    "    \n",
    "    def cal(self):\n",
    "        #self.addSig()\n",
    "        self.temporaryRoot =  self.root\n",
    "        return self.__cal__(root = self.temporaryRoot)\n",
    "    \n",
    "    def __cal__(self,root):\n",
    "        if root is not None:\n",
    "            self.__cal__(root.left)\n",
    "            self.__cal__(root.right)\n",
    "            self.checkforOperation(root)\n",
    "            return root\n",
    "    \n",
    "    def postOrderTraversal(self):\n",
    "        return self.__postOrderTraversal__(self.root)\n",
    "    def __postOrderTraversal__(self,root):\n",
    "        if root is not None:\n",
    "            self.__postOrderTraversal__(root.left)\n",
    "            self.__postOrderTraversal__(root.right)\n",
    "            print(root.data)\n",
    "            \n",
    "    def postOrderStack(self):\n",
    "        cur= self.root\n",
    "        stack= []\n",
    "        while stack or cur:\n",
    "            if cur is not None:\n",
    "                stack.append(cur)\n",
    "                cur = cur.left\n",
    "            else:\n",
    "                cur = stack.pop()\n",
    "                \n",
    "                print(cur.data)\n",
    "                cur = cur.right\n",
    "            \n",
    "    def inorderStack(self):\n",
    "        stack = []\n",
    "        cur = self.root\n",
    "        \n",
    "        while stack or cur:\n",
    "            if cur is not None:\n",
    "                stack.append(cur)\n",
    "                cur = cur.left\n",
    "                \n",
    "            else:\n",
    "                cur = stack.pop()\n",
    "                print(cur.data)\n",
    "                cur = cur.right\n",
    "                \n",
    "    def mutate(self,data):\n",
    "        self.find(data)\n",
    "        subRoot = self.found_item.prev.prev\n",
    "        subRoot.right = self.subTreewithSig(data)\n",
    "    "
   ]
  },
  {
   "cell_type": "code",
   "execution_count": 631,
   "metadata": {
    "scrolled": true
   },
   "outputs": [],
   "source": [
    "s = {}"
   ]
  },
  {
   "cell_type": "code",
   "execution_count": null,
   "metadata": {
    "scrolled": true
   },
   "outputs": [],
   "source": []
  },
  {
   "cell_type": "code",
   "execution_count": 632,
   "metadata": {},
   "outputs": [],
   "source": [
    "x = [5,6,7]\n"
   ]
  },
  {
   "cell_type": "code",
   "execution_count": null,
   "metadata": {},
   "outputs": [],
   "source": []
  },
  {
   "cell_type": "code",
   "execution_count": 633,
   "metadata": {},
   "outputs": [],
   "source": [
    "g= Tree(x)\n",
    "g.createTree()"
   ]
  },
  {
   "cell_type": "code",
   "execution_count": 606,
   "metadata": {
    "scrolled": true
   },
   "outputs": [
    {
     "name": "stdout",
     "output_type": "stream",
     "text": [
      "5\n",
      ".\n",
      "0.6062741655733238\n",
      "+\n",
      "6\n",
      ".\n",
      "0.9824222724330536\n",
      "+\n",
      "7\n",
      ".\n",
      "0.9902478240659128\n"
     ]
    }
   ],
   "source": [
    "#ObjectProperties.no\n",
    "#g.inorderStack()\n",
    "#g.postOrderTraversal()\n",
    "g.traverse()"
   ]
  },
  {
   "cell_type": "code",
   "execution_count": 634,
   "metadata": {},
   "outputs": [
    {
     "data": {
      "text/plain": [
       "[<__main__.Node at 0x1baffb768c8>,\n",
       " <__main__.Node at 0x1baffb76488>,\n",
       " <__main__.Node at 0x1baffb767c8>]"
      ]
     },
     "execution_count": 634,
     "metadata": {},
     "output_type": "execute_result"
    }
   ],
   "source": [
    "g.nodes"
   ]
  },
  {
   "cell_type": "code",
   "execution_count": 635,
   "metadata": {},
   "outputs": [
    {
     "data": {
      "text/plain": [
       "[<__main__.Node at 0x1baffb76308>,\n",
       " <__main__.Node at 0x1baffb76288>,\n",
       " <__main__.Node at 0x1baffb76bc8>]"
      ]
     },
     "execution_count": 635,
     "metadata": {},
     "output_type": "execute_result"
    }
   ],
   "source": [
    "g.edges"
   ]
  },
  {
   "cell_type": "code",
   "execution_count": 636,
   "metadata": {},
   "outputs": [
    {
     "data": {
      "text/plain": [
       "[<__main__.Node at 0x1baff4d8e88>,\n",
       " <__main__.Node at 0x1baffb76588>,\n",
       " <__main__.Node at 0x1baffb76f88>,\n",
       " <__main__.Node at 0x1baffb76648>,\n",
       " <__main__.Node at 0x1baffb76e08>]"
      ]
     },
     "execution_count": 636,
     "metadata": {},
     "output_type": "execute_result"
    }
   ],
   "source": [
    "g.operators"
   ]
  },
  {
   "cell_type": "code",
   "execution_count": null,
   "metadata": {},
   "outputs": [],
   "source": []
  },
  {
   "cell_type": "code",
   "execution_count": null,
   "metadata": {},
   "outputs": [],
   "source": []
  },
  {
   "cell_type": "code",
   "execution_count": null,
   "metadata": {},
   "outputs": [],
   "source": []
  },
  {
   "cell_type": "code",
   "execution_count": null,
   "metadata": {
    "scrolled": true
   },
   "outputs": [],
   "source": []
  },
  {
   "cell_type": "code",
   "execution_count": null,
   "metadata": {
    "scrolled": false
   },
   "outputs": [],
   "source": []
  },
  {
   "cell_type": "code",
   "execution_count": null,
   "metadata": {},
   "outputs": [],
   "source": []
  },
  {
   "cell_type": "code",
   "execution_count": null,
   "metadata": {},
   "outputs": [],
   "source": []
  },
  {
   "cell_type": "code",
   "execution_count": null,
   "metadata": {},
   "outputs": [],
   "source": []
  },
  {
   "cell_type": "code",
   "execution_count": 321,
   "metadata": {},
   "outputs": [],
   "source": [
    "g.mutate(6)"
   ]
  },
  {
   "cell_type": "code",
   "execution_count": 257,
   "metadata": {},
   "outputs": [
    {
     "name": "stdout",
     "output_type": "stream",
     "text": [
      "5\n",
      ".\n",
      "0.14701487495196452\n",
      "+\n",
      "6\n",
      ".\n",
      "0.5344475194364784\n",
      "+\n",
      "7\n",
      ".\n",
      "0.08088238029812955\n"
     ]
    }
   ],
   "source": [
    "g.traverse()"
   ]
  },
  {
   "cell_type": "code",
   "execution_count": 526,
   "metadata": {},
   "outputs": [],
   "source": [
    "def check(func):\n",
    "    def inner(a,b):\n",
    "        if b == 0:\n",
    "            print('cant devide')#\n",
    "            return\n",
    "        func(a,b)\n",
    "        return inner"
   ]
  },
  {
   "cell_type": "code",
   "execution_count": 527,
   "metadata": {},
   "outputs": [],
   "source": [
    "#@check\n",
    "def div(a,b):\n",
    "    return a/b"
   ]
  },
  {
   "cell_type": "code",
   "execution_count": 528,
   "metadata": {},
   "outputs": [],
   "source": [
    "div = check(div)"
   ]
  },
  {
   "cell_type": "code",
   "execution_count": null,
   "metadata": {},
   "outputs": [],
   "source": []
  },
  {
   "cell_type": "code",
   "execution_count": null,
   "metadata": {},
   "outputs": [],
   "source": []
  },
  {
   "cell_type": "code",
   "execution_count": null,
   "metadata": {},
   "outputs": [],
   "source": []
  },
  {
   "cell_type": "code",
   "execution_count": 33,
   "metadata": {},
   "outputs": [],
   "source": [
    "p = []"
   ]
  },
  {
   "cell_type": "code",
   "execution_count": 37,
   "metadata": {},
   "outputs": [],
   "source": [
    "a = Tree()"
   ]
  },
  {
   "cell_type": "code",
   "execution_count": 38,
   "metadata": {},
   "outputs": [],
   "source": [
    "a.root"
   ]
  },
  {
   "cell_type": "code",
   "execution_count": 24,
   "metadata": {},
   "outputs": [],
   "source": [
    "a= {'a':5,'b':6}"
   ]
  },
  {
   "cell_type": "code",
   "execution_count": 39,
   "metadata": {},
   "outputs": [],
   "source": [
    "p.append(a)"
   ]
  },
  {
   "cell_type": "code",
   "execution_count": 96,
   "metadata": {},
   "outputs": [],
   "source": [
    "def IterDict(dict_):\n",
    "    for key in dict_:\n",
    "        return print(key)"
   ]
  },
  {
   "cell_type": "code",
   "execution_count": 99,
   "metadata": {},
   "outputs": [
    {
     "name": "stdout",
     "output_type": "stream",
     "text": [
      "0\n"
     ]
    }
   ],
   "source": [
    "#def sampleFromDict(dict_):\n",
    "IterDict(x)"
   ]
  },
  {
   "cell_type": "code",
   "execution_count": null,
   "metadata": {},
   "outputs": [],
   "source": []
  },
  {
   "cell_type": "code",
   "execution_count": 70,
   "metadata": {},
   "outputs": [],
   "source": [
    "x = {0:0,a:2,2:2}"
   ]
  },
  {
   "cell_type": "code",
   "execution_count": 67,
   "metadata": {},
   "outputs": [],
   "source": [
    "del x[2]"
   ]
  },
  {
   "cell_type": "code",
   "execution_count": 71,
   "metadata": {},
   "outputs": [
    {
     "name": "stdout",
     "output_type": "stream",
     "text": [
      "0\n",
      "<__main__.Tree object at 0x000001BAFDFB8588>\n",
      "2\n"
     ]
    }
   ],
   "source": [
    "IterDict(x)"
   ]
  },
  {
   "cell_type": "code",
   "execution_count": 77,
   "metadata": {},
   "outputs": [
    {
     "data": {
      "text/plain": [
       "{'a': 3, 'b': 5, 'c': 1, 'd': 2}"
      ]
     },
     "execution_count": 77,
     "metadata": {},
     "output_type": "execute_result"
    }
   ],
   "source": [
    "d = {\"a\":3, \"b\": 5, \"c\":1, \"d\":2}\n",
    "\n",
    "#print(random.choice(list(d.keys())))\n",
    "\n",
    "#Output:\n",
    "d"
   ]
  },
  {
   "cell_type": "code",
   "execution_count": 78,
   "metadata": {},
   "outputs": [
    {
     "name": "stdout",
     "output_type": "stream",
     "text": [
      "c\n"
     ]
    }
   ],
   "source": [
    "print(random.choice(list(d.keys())))"
   ]
  },
  {
   "cell_type": "code",
   "execution_count": null,
   "metadata": {},
   "outputs": [],
   "source": []
  },
  {
   "cell_type": "code",
   "execution_count": 92,
   "metadata": {},
   "outputs": [
    {
     "data": {
      "text/plain": [
       "dict_keys([0, <__main__.Tree object at 0x000001BAFDFB8588>, 2])"
      ]
     },
     "execution_count": 92,
     "metadata": {},
     "output_type": "execute_result"
    }
   ],
   "source": [
    "x.keys()"
   ]
  },
  {
   "cell_type": "code",
   "execution_count": 93,
   "metadata": {},
   "outputs": [
    {
     "data": {
      "text/plain": [
       "3"
      ]
     },
     "execution_count": 93,
     "metadata": {},
     "output_type": "execute_result"
    }
   ],
   "source": [
    "len(x)"
   ]
  },
  {
   "cell_type": "code",
   "execution_count": null,
   "metadata": {},
   "outputs": [],
   "source": []
  }
 ],
 "metadata": {
  "kernelspec": {
   "display_name": "Python (myenv)",
   "language": "python",
   "name": "myenv"
  },
  "language_info": {
   "codemirror_mode": {
    "name": "ipython",
    "version": 3
   },
   "file_extension": ".py",
   "mimetype": "text/x-python",
   "name": "python",
   "nbconvert_exporter": "python",
   "pygments_lexer": "ipython3",
   "version": "3.7.4"
  }
 },
 "nbformat": 4,
 "nbformat_minor": 2
}
